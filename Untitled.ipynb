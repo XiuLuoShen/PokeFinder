{
 "cells": [
  {
   "cell_type": "code",
   "execution_count": 239,
   "metadata": {},
   "outputs": [],
   "source": [
    "import requests\n",
    "import csv\n",
    "import re\n",
    "from bs4 import BeautifulSoup"
   ]
  },
  {
   "cell_type": "code",
   "execution_count": 146,
   "metadata": {},
   "outputs": [],
   "source": [
    "rootUrl = 'https://pokemondb.net'"
   ]
  },
  {
   "cell_type": "code",
   "execution_count": 162,
   "metadata": {},
   "outputs": [],
   "source": [
    "def getAllPokemonUrls():\n",
    "    dexUrl = rootUrl + '/pokedex/national'\n",
    "    pokeUrlsList = requests.get(dexUrl)\n",
    "    soup = BeautifulSoup(pokeUrlsList.text, \"html.parser\")\n",
    "    pokeUrlsList.close()\n",
    "    return [a.attrs.get( 'href' ) for a in soup.select( 'div [class=\"infocard\"] a[class=\"ent-name\"]' )]"
   ]
  },
  {
   "cell_type": "code",
   "execution_count": 257,
   "metadata": {},
   "outputs": [],
   "source": [
    "def pokemonGamesList():\n",
    "    coreGamesUrl = requests.get('https://bulbapedia.bulbagarden.net/wiki/Core_series')\n",
    "    page = BeautifulSoup(coreGamesUrl.text, \"html.parser\")\n",
    "    coreGamesUrl.close()\n",
    "    return set([a.text for a in page.select('table[class=\"roundy\"] td [title*=\"Pok\"]')][4:]) # Skip the Japan only games"
   ]
  },
  {
   "cell_type": "code",
   "execution_count": null,
   "metadata": {},
   "outputs": [],
   "source": [
    "getAllPokemonUrls()"
   ]
  },
  {
   "cell_type": "code",
   "execution_count": null,
   "metadata": {},
   "outputs": [],
   "source": [
    "pokemonGamesList()"
   ]
  },
  {
   "cell_type": "code",
   "execution_count": 288,
   "metadata": {},
   "outputs": [],
   "source": [
    "def getPokemonLocationData(pokemonUrl):\n",
    "    htmlData = requests.get(rootUrl + pokemonUrl)\n",
    "    soup = BeautifulSoup(htmlData.text, \"html.parser\")\n",
    "    htmlData.close()\n",
    "    whereHeader = soup.find('h2', string=re.compile(\"Where to find\"))\n",
    "\n",
    "    gameData = whereHeader.find_all_next('span', class_=re.compile(\"igame\"))\n",
    "    gameData\n",
    "    print(pokemonUrl.rsplit('/', 1)[-1]) # A bit hacky\n",
    "    for tag in gameData:\n",
    "        if tag.text in games:\n",
    "            if (tag.parent.parent.find('td')):\n",
    "                print(tag.text)\n",
    "                print('\\t' + tag.parent.parent.find('td').text)"
   ]
  },
  {
   "cell_type": "code",
   "execution_count": 289,
   "metadata": {},
   "outputs": [],
   "source": [
    "games = pokemonGamesList()"
   ]
  },
  {
   "cell_type": "code",
   "execution_count": null,
   "metadata": {},
   "outputs": [],
   "source": []
  }
 ],
 "metadata": {
  "kernelspec": {
   "display_name": "Python 3",
   "language": "python",
   "name": "python3"
  },
  "language_info": {
   "codemirror_mode": {
    "name": "ipython",
    "version": 3
   },
   "file_extension": ".py",
   "mimetype": "text/x-python",
   "name": "python",
   "nbconvert_exporter": "python",
   "pygments_lexer": "ipython3",
   "version": "3.7.3"
  }
 },
 "nbformat": 4,
 "nbformat_minor": 2
}
