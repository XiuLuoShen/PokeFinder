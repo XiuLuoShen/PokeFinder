{
 "cells": [
  {
   "cell_type": "code",
   "execution_count": 94,
   "metadata": {},
   "outputs": [],
   "source": [
    "import requests\n",
    "import csv\n",
    "import re\n",
    "import json\n",
    "from bs4 import BeautifulSoup\n",
    "import openpyxl\n",
    "from openpyxl.styles import Color, PatternFill, Font, Border"
   ]
  },
  {
   "cell_type": "code",
   "execution_count": 2,
   "metadata": {},
   "outputs": [],
   "source": [
    "rootUrl = 'https://pokemondb.net'"
   ]
  },
  {
   "cell_type": "code",
   "execution_count": 3,
   "metadata": {},
   "outputs": [],
   "source": [
    "notAvailableText ='Trade/migrate from another game'"
   ]
  },
  {
   "cell_type": "code",
   "execution_count": 48,
   "metadata": {},
   "outputs": [],
   "source": [
    "def pokemonGamesList():\n",
    "    coreGamesUrl = requests.get('https://bulbapedia.bulbagarden.net/wiki/Core_series')\n",
    "    page = BeautifulSoup(coreGamesUrl.text, \"html.parser\")\n",
    "    coreGamesUrl.close()\n",
    "    return [a.text for a in page.select('table[class=\"roundy\"] td [title*=\"Pok\"]')][4:] # Skip the Japan only games"
   ]
  },
  {
   "cell_type": "code",
   "execution_count": 49,
   "metadata": {},
   "outputs": [],
   "source": [
    "games = pokemonGamesList()\n",
    "gamesSet = set(games)"
   ]
  },
  {
   "cell_type": "code",
   "execution_count": 6,
   "metadata": {},
   "outputs": [],
   "source": [
    "def getAllPokemonUrls():\n",
    "    dexUrl = rootUrl + '/pokedex/national'\n",
    "    pokeUrlsList = requests.get(dexUrl)\n",
    "    soup = BeautifulSoup(pokeUrlsList.text, \"html.parser\")\n",
    "    pokeUrlsList.close()\n",
    "    return [a.attrs.get( 'href' ) for a in soup.select( 'div [class=\"infocard\"] a[class=\"ent-name\"]' )]"
   ]
  },
  {
   "cell_type": "code",
   "execution_count": 7,
   "metadata": {},
   "outputs": [],
   "source": [
    "def getPokemonLocationData(pokemonUrl, pokemonDictionary):\n",
    "    htmlData = requests.get(rootUrl + pokemonUrl)\n",
    "    soup = BeautifulSoup(htmlData.text, \"html.parser\")\n",
    "    htmlData.close()\n",
    "    whereHeader = soup.find('h2', string=re.compile(\"Where to find\"))\n",
    "\n",
    "    gameData = {}\n",
    "    gameDataTag = whereHeader.find_all_next('span', class_=re.compile(\"igame\"))\n",
    "    name = pokemonUrl.rsplit('/', 1)[-1] # A bit hacky\n",
    "#     print(name) # Print the name of the pokemon. (for debugging)\n",
    "    for tag in gameDataTag:\n",
    "        if tag.text in gamesSet:\n",
    "            if (tag.parent.parent.find('td')):\n",
    "                # gameData[game] = location\n",
    "                gameData[tag.text] = tag.parent.parent.find('td').text\n",
    "    pokemonDictionary[name] = gameData\n"
   ]
  },
  {
   "cell_type": "code",
   "execution_count": 8,
   "metadata": {},
   "outputs": [],
   "source": [
    "def getAllPokemonInfo():\n",
    "    \"\"\"\n",
    "    Scrape the pokemondb and get all pokemon location information\n",
    "    Returns a dictionary\n",
    "    \"\"\"\n",
    "    pokemonInfo = {}\n",
    "    for pokeurl in getAllPokemonUrls():\n",
    "        getPokemonLocationData(pokeurl, pokemonInfo)\n",
    "    return pokemonInfo"
   ]
  },
  {
   "cell_type": "code",
   "execution_count": 19,
   "metadata": {},
   "outputs": [],
   "source": [
    "def saveToJSON():\n",
    "    \"\"\"\n",
    "    Saves the data to a text file to avoid having to scrape for it again in the future.\n",
    "    Fails if the file already exists.\n",
    "    \"\"\"\n",
    "    try\n",
    "        ofile = open('PokemonLocationData.json', 'x+')\n",
    "        data = getAllPokemonInfo()\n",
    "        json.dump(data, ofile)\n",
    "    finally\n",
    "        ofile.close()"
   ]
  },
  {
   "cell_type": "code",
   "execution_count": 25,
   "metadata": {},
   "outputs": [],
   "source": [
    "def loadFromJSON():\n",
    "    \"\"\"\n",
    "    Load the data from a file that was previously saved.\n",
    "    \"\"\"\n",
    "    # Open file with information that has already been scraped and saved as json data\n",
    "    try:\n",
    "        ifile = open('PokemonLocationData.json', 'r')\n",
    "        pokemonData = json.loads(ifile.readline())\n",
    "    finally:\n",
    "        ifile.close()\n",
    "    return pokemonData"
   ]
  },
  {
   "cell_type": "code",
   "execution_count": 26,
   "metadata": {},
   "outputs": [],
   "source": [
    "pokemonData = loadFromJSON()"
   ]
  },
  {
   "cell_type": "code",
   "execution_count": 27,
   "metadata": {},
   "outputs": [
    {
     "data": {
      "text/plain": [
       "{'Ruby': 'Sky Pillar',\n",
       " 'Sapphire': 'Sky Pillar',\n",
       " 'FireRed': 'Trade/migrate from another game',\n",
       " 'LeafGreen': 'Trade/migrate from another game',\n",
       " 'Emerald': 'Sky Pillar',\n",
       " 'Diamond': 'Trade/migrate from another game',\n",
       " 'Pearl': 'Trade/migrate from another game',\n",
       " 'Platinum': 'Trade/migrate from another game',\n",
       " 'HeartGold': 'Embedded Tower',\n",
       " 'SoulSilver': 'Embedded Tower',\n",
       " 'Black': 'Trade/migrate from another game',\n",
       " 'White': 'Trade/migrate from another game',\n",
       " 'Black 2': 'Trade/migrate from another game',\n",
       " 'White 2': 'Trade/migrate from another game',\n",
       " 'X': 'Trade/migrate from another game',\n",
       " 'Y': 'Trade/migrate from another game',\n",
       " 'Omega Ruby': 'Sky Pillar',\n",
       " 'Alpha Sapphire': 'Sky Pillar',\n",
       " 'Sun': 'Trade/migrate from another game',\n",
       " 'Moon': 'Trade/migrate from another game',\n",
       " 'Ultra Sun': 'Ultra Space Wilds',\n",
       " 'Ultra Moon': 'Ultra Space Wilds'}"
      ]
     },
     "execution_count": 27,
     "metadata": {},
     "output_type": "execute_result"
    }
   ],
   "source": [
    "pokemonData['rayquaza'] # test"
   ]
  },
  {
   "cell_type": "code",
   "execution_count": 107,
   "metadata": {},
   "outputs": [],
   "source": [
    "def saveToExcel():\n",
    "    wb = openpyxl.Workbook()\n",
    "    sheet = wb.active\n",
    "    sheet.title = 'Pokemon Location in Games Data'\n",
    "\n",
    "    redFill = PatternFill(start_color='ff6666', end_color='ff6666', fill_type='solid')\n",
    "    greenFill = PatternFill(start_color='1aff8c', end_color='1aff8c', fill_type='solid')\n",
    "\n",
    "    # Headers\n",
    "    sheet['A1'] = '#'\n",
    "    sheet['B1'] = 'Pokemon'\n",
    "    for row in sheet.iter_rows(min_row=1, min_col=3, max_col=(len(games)+2), max_row=1):\n",
    "        i = 0\n",
    "        for cell in row:\n",
    "            cell.value = games[i]\n",
    "            cols.append(cell.column)\n",
    "            i += 1\n",
    "\n",
    "    # Fill in data\n",
    "    number = 1\n",
    "    for pokemon in list(pokemonData.keys()):\n",
    "        for row in sheet.iter_rows(min_row=number+1, max_row=number+1, min_col=1, max_col=(len(games)+2)):\n",
    "            row[0].value = str(number)\n",
    "            row[1].value = pokemon.capitalize()\n",
    "            i = 0\n",
    "            for cell in row[2:]:\n",
    "                # If the pokemon did not exist yet in that game or is unavailable, leave the cell as null and color it red\n",
    "                if games[i] not in pokemonData[pokemon] or pokemonData[pokemon][games[i]] == notAvailableText:\n",
    "                    cell.value = ''\n",
    "                    cell.fill = redFill\n",
    "                else:\n",
    "                    cell.value = pokemonData[pokemon][games[i]]\n",
    "                    cell.fill = greenFill\n",
    "                i += 1\n",
    "        number += 1\n",
    "\n",
    "    wb.save('PokemonLocations.xlsx')\n",
    "\n"
   ]
  },
  {
   "cell_type": "code",
   "execution_count": 110,
   "metadata": {},
   "outputs": [],
   "source": [
    "# saveToExcel()"
   ]
  },
  {
   "cell_type": "code",
   "execution_count": null,
   "metadata": {},
   "outputs": [],
   "source": []
  }
 ],
 "metadata": {
  "kernelspec": {
   "display_name": "Python 3",
   "language": "python",
   "name": "python3"
  },
  "language_info": {
   "codemirror_mode": {
    "name": "ipython",
    "version": 3
   },
   "file_extension": ".py",
   "mimetype": "text/x-python",
   "name": "python",
   "nbconvert_exporter": "python",
   "pygments_lexer": "ipython3",
   "version": "3.7.4"
  }
 },
 "nbformat": 4,
 "nbformat_minor": 2
}
